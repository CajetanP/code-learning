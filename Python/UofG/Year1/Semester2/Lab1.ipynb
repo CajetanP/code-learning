{
 "cells": [
  {
   "cell_type": "code",
   "execution_count": 16,
   "metadata": {},
   "outputs": [
    {
     "name": "stdout",
     "output_type": "stream",
     "text": [
      "[1, 2, 3]\n",
      "[1, 2, 3, 4, 5, 6, 7, 8, 9, 10]\n"
     ]
    }
   ],
   "source": [
    "def flatten(a):\n",
    "    if a == []:\n",
    "        return a\n",
    "    \n",
    "    if isinstance(a[0], list):\n",
    "        return flatten(a[0]) + flatten(a[1:])\n",
    "    \n",
    "    return [a[0]] + flatten(a[1:])\n",
    "\n",
    "print(flatten([1, 2, 3]))\n",
    "print(flatten([[[1, 2, 3], [4, 5, 6], [7], [8, 9], 10]]))"
   ]
  },
  {
   "cell_type": "code",
   "execution_count": 25,
   "metadata": {},
   "outputs": [
    {
     "name": "stdout",
     "output_type": "stream",
     "text": [
      "True\n",
      "False\n"
     ]
    }
   ],
   "source": [
    "def identical(a, b):\n",
    "    for i in range(len(a)+1):\n",
    "        if a == b:\n",
    "            return True\n",
    "        a = a[1:]+[a[0]]\n",
    "        \n",
    "    return False\n",
    "    \n",
    "print(identical([10, 10, 0, 10], [10, 10, 10, 0]))\n",
    "print(identical([10, 10, 5, 10], [10, 10, 10, 0]))"
   ]
  },
  {
   "cell_type": "code",
   "execution_count": 36,
   "metadata": {},
   "outputs": [
    {
     "name": "stdout",
     "output_type": "stream",
     "text": [
      "[[1, 2, 3, 5, 1, 3], [4, 12, 3, 5, 3, 2], [3, 4, 5]]\n",
      "[[1, 2, 3, 5, 1, 3], [4, 12, 3, 5, 3, 2]]\n"
     ]
    }
   ],
   "source": [
    "def chunks(l, size):\n",
    "    result = []\n",
    "    pos = 0\n",
    "    \n",
    "    while pos+size <= len(l):\n",
    "        result.append(l[pos:pos+size])\n",
    "        pos += size\n",
    "        \n",
    "    if (pos < len(l)):\n",
    "        result.append(l[pos:])\n",
    "        \n",
    "    return result\n",
    "    \n",
    "print(chunks([1,2,3,5,1,3,4,12,3,5,3,2,3,4,5], 6))\n",
    "print(chunks([1,2,3,5,1,3,4,12,3,5,3,2], 6))"
   ]
  },
  {
   "cell_type": "code",
   "execution_count": 39,
   "metadata": {},
   "outputs": [
    {
     "name": "stdout",
     "output_type": "stream",
     "text": [
      "[('item3', 24.5), ('item2', 15.1), ('item', 12.2)]\n"
     ]
    }
   ],
   "source": [
    "def sortbyfloat(a):\n",
    "    return sorted(a, key=lambda x: -x[1])\n",
    "\n",
    "print(sortbyfloat([('item', 12.20), ('item2', 15.10), ('item3', 24.5)]))"
   ]
  },
  {
   "cell_type": "code",
   "execution_count": 46,
   "metadata": {},
   "outputs": [
    {
     "name": "stdout",
     "output_type": "stream",
     "text": [
      "(2, 4, 6)\n",
      "(2, 1, 4)\n"
     ]
    }
   ],
   "source": [
    "def addbyelement(t1, t2):\n",
    "    return tuple([sum(t) for t in zip(t1, t2)])\n",
    "    \n",
    "print(addbyelement((1,2,3), (1,2,3)))\n",
    "print(addbyelement((1,5,1), (1,-4,3)))"
   ]
  },
  {
   "cell_type": "code",
   "execution_count": 54,
   "metadata": {},
   "outputs": [
    {
     "name": "stdout",
     "output_type": "stream",
     "text": [
      "{'apple': 6, 'banana': {'hello': 5, 'world': 4}}\n",
      "{'apple': 36, 'banana': {'hello': 25, 'world': 16}}\n"
     ]
    }
   ],
   "source": [
    "def myfun(elem):\n",
    "    return elem**2\n",
    "\n",
    "def applyfunondict(a, myfun):\n",
    "    result = {}\n",
    "    for it in a:\n",
    "        if (isinstance(a[it], dict)):\n",
    "            result[it] = applyfunondict(a[it], myfun)\n",
    "        else:\n",
    "            result[it] = myfun(a[it])\n",
    "    return result\n",
    "\n",
    "x = {'apple': 6, 'banana': {'hello': 5, 'world': 4}}\n",
    "print(x)\n",
    "print(applyfunondict(x, myfun))"
   ]
  },
  {
   "cell_type": "code",
   "execution_count": 55,
   "metadata": {},
   "outputs": [
    {
     "name": "stdout",
     "output_type": "stream",
     "text": [
      "True\n",
      "False\n"
     ]
    }
   ],
   "source": [
    "def comparedicts(dict1, dict2):\n",
    "    for it in dict1:\n",
    "        if it not in dict2 or dict1[it] != dict2[it]:\n",
    "            return False\n",
    "    return True\n",
    "\n",
    "print(comparedicts({'a':1, 'b':2}, {'a':1, 'b':2}))\n",
    "print(comparedicts({'a':1, 'b':3}, {'a':1, 'b':2}))"
   ]
  },
  {
   "cell_type": "code",
   "execution_count": 63,
   "metadata": {},
   "outputs": [
    {
     "name": "stdout",
     "output_type": "stream",
     "text": [
      "{('b', 3), ('b', 2)}\n",
      "set()\n"
     ]
    }
   ],
   "source": [
    "def differences(dict1, dict2):\n",
    "    result = set()\n",
    "    for it in dict1:\n",
    "        if dict1[it] != dict2[it]:\n",
    "            result.add((it, dict1[it]))\n",
    "            result.add((it, dict2[it]))\n",
    "    return result\n",
    "    \n",
    "print(differences({'a':1, 'b':3}, {'a':1, 'b':2}))\n",
    "print(differences({'a':1, 'b':3}, {'a':1, 'b':3}))"
   ]
  },
  {
   "cell_type": "code",
   "execution_count": 106,
   "metadata": {},
   "outputs": [
    {
     "name": "stdout",
     "output_type": "stream",
     "text": [
      "Price   Income   Profit\n",
      "-----   ------   ------\n",
      " £ 1     2420    -5580\n",
      " £ 2     4680    -3320\n",
      " £ 3     6780    -1220\n",
      " £ 4     8720    720  \n",
      " £ 5     10500   2500 \n",
      " £ 6     12120   4120 \n",
      " £ 7     13580   5580 \n",
      " £ 8     14880   6880 \n",
      " £ 9     16020   8020 \n",
      " £ 10    17000   9000 \n",
      " £ 11    17820   9820 \n",
      " £ 12    18480   10480\n",
      " £ 13    18980   10980\n",
      " £ 14    19320   11320\n",
      " £ 15    19500   11500\n",
      " £ 16    19520   11520\n",
      " £ 17    19380   11380\n",
      " £ 18    19080   11080\n",
      " £ 19    18620   10620\n",
      " £ 20    18000   10000\n",
      " £ 21    17220   9220 \n",
      " £ 22    16280   8280 \n",
      " £ 23    15180   7180 \n",
      " £ 24    13920   5920 \n",
      " £ 25    12500   4500 \n",
      " £ 26    10920   2920 \n",
      " £ 27    9180    1180 \n",
      " £ 28    7280    -720 \n",
      " £ 29    5220    -2780\n",
      " £ 30    3000    -5000\n"
     ]
    }
   ],
   "source": [
    "# sales = 2500 - 80 * price\n",
    "# profit = sales * price - 8000\n",
    "\n",
    "def profitTable(maxPrice):\n",
    "    print(\"{}   {}   {}\".format(\"Price\", \"Income\", \"Profit\"))\n",
    "    print(\"{}   {}   {}\".format(\"-\"*5, \"-\"*6, \"-\"*6))\n",
    "\n",
    "    for price in range(1, maxPrice+1):\n",
    "        sales = 2500 - 80 * price\n",
    "        income = sales * price\n",
    "        print(\" £ {:<3}   {:<5}   {:<5}\".format(price, income, income-8000))\n",
    "        \n",
    "profitTable(30)"
   ]
  },
  {
   "cell_type": "code",
   "execution_count": 113,
   "metadata": {},
   "outputs": [
    {
     "name": "stdout",
     "output_type": "stream",
     "text": [
      "Price     Income     Profit\n",
      "-----     ------     ------\n",
      "£ 0.5     1230.0    -6770.0\n",
      "£ 1.0     2420.0    -5580.0\n",
      "£ 1.5     3570.0    -4430.0\n",
      "£ 2.0     4680.0    -3320.0\n",
      "£ 2.5     5750.0    -2250.0\n",
      "£ 3.0     6780.0    -1220.0\n",
      "£ 3.5     7770.0    -230.0 \n",
      "£ 4.0     8720.0    720.0  \n",
      "£ 4.5     9630.0    1630.0 \n",
      "£ 5.0     10500.0   2500.0 \n",
      "£ 5.5     11330.0   3330.0 \n",
      "£ 6.0     12120.0   4120.0 \n",
      "£ 6.5     12870.0   4870.0 \n",
      "£ 7.0     13580.0   5580.0 \n",
      "£ 7.5     14250.0   6250.0 \n",
      "£ 8.0     14880.0   6880.0 \n",
      "£ 8.5     15470.0   7470.0 \n",
      "£ 9.0     16020.0   8020.0 \n",
      "£ 9.5     16530.0   8530.0 \n",
      "£ 10.0    17000.0   9000.0 \n",
      "£ 10.5    17430.0   9430.0 \n",
      "£ 11.0    17820.0   9820.0 \n",
      "£ 11.5    18170.0   10170.0\n",
      "£ 12.0    18480.0   10480.0\n",
      "£ 12.5    18750.0   10750.0\n",
      "£ 13.0    18980.0   10980.0\n",
      "£ 13.5    19170.0   11170.0\n",
      "£ 14.0    19320.0   11320.0\n",
      "£ 14.5    19430.0   11430.0\n",
      "£ 15.0    19500.0   11500.0\n",
      "£ 15.5    19530.0   11530.0\n",
      "£ 16.0    19520.0   11520.0\n",
      "£ 16.5    19470.0   11470.0\n",
      "£ 17.0    19380.0   11380.0\n",
      "£ 17.5    19250.0   11250.0\n",
      "£ 18.0    19080.0   11080.0\n",
      "£ 18.5    18870.0   10870.0\n",
      "£ 19.0    18620.0   10620.0\n",
      "£ 19.5    18330.0   10330.0\n",
      "£ 20.0    18000.0   10000.0\n",
      "£ 20.5    17630.0   9630.0 \n",
      "£ 21.0    17220.0   9220.0 \n",
      "£ 21.5    16770.0   8770.0 \n",
      "£ 22.0    16280.0   8280.0 \n",
      "£ 22.5    15750.0   7750.0 \n",
      "£ 23.0    15180.0   7180.0 \n",
      "£ 23.5    14570.0   6570.0 \n",
      "£ 24.0    13920.0   5920.0 \n",
      "£ 24.5    13230.0   5230.0 \n",
      "£ 25.0    12500.0   4500.0 \n",
      "£ 25.5    11730.0   3730.0 \n",
      "£ 26.0    10920.0   2920.0 \n",
      "£ 26.5    10070.0   2070.0 \n",
      "£ 27.0    9180.0    1180.0 \n",
      "£ 27.5    8250.0    250.0  \n",
      "£ 28.0    7280.0    -720.0 \n",
      "£ 28.5    6270.0    -1730.0\n",
      "£ 29.0    5220.0    -2780.0\n",
      "£ 29.5    4130.0    -3870.0\n",
      "£ 30.0    3000.0    -5000.0\n"
     ]
    }
   ],
   "source": [
    "# sales = 2500 - 80 * price\n",
    "# profit = sales * price - 8000\n",
    "\n",
    "def profitTable_50(maxPrice):\n",
    "    print(\"{}     {}     {}\".format(\"Price\", \"Income\", \"Profit\"))\n",
    "    print(\"{}     {}     {}\".format(\"-\"*5, \"-\"*6, \"-\"*6))\n",
    "\n",
    "    for price in [x/2.0 for x in range(1, (maxPrice)*2+1)]:\n",
    "        sales = 2500 - 80 * price\n",
    "        income = sales * price\n",
    "        print(\"£ {:<5}   {:<7}   {:<7}\".format(price, income, income-8000))\n",
    "        \n",
    "profitTable_50(30)"
   ]
  },
  {
   "cell_type": "code",
   "execution_count": 122,
   "metadata": {},
   "outputs": [
    {
     "data": {
      "image/png": "[encoded data removed]",
      "text/plain": [
       "<Figure size 432x288 with 1 Axes>"
      ]
     },
     "metadata": {
      "needs_background": "light"
     },
     "output_type": "display_data"
    }
   ],
   "source": [
    "import matplotlib.pyplot as plt\n",
    "\n",
    "def profitList(maxPrice):\n",
    "    result = [], []\n",
    "    for price in [x/2.0 for x in range(1, (maxPrice)*2+1)]:\n",
    "        sales = 2500 - 80 * price\n",
    "        income = sales * price\n",
    "        result[0].append(price)\n",
    "        result[1].append(income-8000)\n",
    "    return result\n",
    "        \n",
    "lists = profitList(30)\n",
    "plt.plot(lists[0], lists[1])\n",
    "plt.ylabel('Profit')\n",
    "plt.xlabel('Price')\n",
    "plt.show()"
   ]
  },
  {
   "cell_type": "code",
   "execution_count": null,
   "metadata": {},
   "outputs": [],
   "source": []
  }
 ],
 "metadata": {
  "kernelspec": {
   "display_name": "Python 3",
   "language": "python",
   "name": "python3"
  },
  "language_info": {
   "codemirror_mode": {
    "name": "ipython",
    "version": 3
   },
   "file_extension": ".py",
   "mimetype": "text/x-python",
   "name": "python",
   "nbconvert_exporter": "python",
   "pygments_lexer": "ipython3",
   "version": "3.7.5"
  }
 },
 "nbformat": 4,
 "nbformat_minor": 2
}
