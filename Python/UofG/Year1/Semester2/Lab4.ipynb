{
 "cells": [
  {
   "cell_type": "code",
   "execution_count": 49,
   "metadata": {},
   "outputs": [
    {
     "name": "stdout",
     "output_type": "stream",
     "text": [
      "[4, 65, 2, -31, 0, 99, 83, 782, 1]  ->  [-31, 0, 1, 2, 4, 65, 83, 99, 782]\n"
     ]
    }
   ],
   "source": [
    "def quick_sort(mylist):\n",
    "    if len(mylist) <= 1:\n",
    "        return mylist\n",
    "    \n",
    "    pivot = mylist[0]\n",
    "    \n",
    "    less = [x for x in mylist if x < pivot]\n",
    "    more = [x for x in mylist if x > pivot]\n",
    "    pivotList = [x for x in mylist if x == pivot]\n",
    "            \n",
    "    less = quickSort(less)\n",
    "    more = quickSort(more)\n",
    "    \n",
    "    return less + pivotList + more\n",
    "\n",
    "a = [4, 65, 2, -31, 0, 99, 83, 782, 1]\n",
    "print(a, \" -> \", quick_sort(a))"
   ]
  },
  {
   "cell_type": "code",
   "execution_count": 52,
   "metadata": {},
   "outputs": [
    {
     "name": "stdout",
     "output_type": "stream",
     "text": [
      "[-31, 0, 1, 2, 4, 65, 83, 99, 782]\n",
      "-999\n"
     ]
    }
   ],
   "source": [
    "def find(data, key, l, r, default):\n",
    "    if r < 1:\n",
    "        return default\n",
    "    \n",
    "    midpoint = 1 + (r - l) // 2\n",
    "     \n",
    "    if key < data[midpoint]:\n",
    "        return find(data, key, 1, midpoint - 1, default)\n",
    "    if key > data[midpoint]:\n",
    "        return find(data, key, midpoint + 1, r, default)\n",
    "    else:\n",
    "        return midpoint\n",
    "    \n",
    "a = quick_sort([4, 65, 2, -31, 0, 99, 83, 782, 1])\n",
    "print(a)\n",
    "\n",
    "print(find(a, -31, 0, len(a)-1, -999))"
   ]
  },
  {
   "cell_type": "code",
   "execution_count": 78,
   "metadata": {},
   "outputs": [
    {
     "name": "stdout",
     "output_type": "stream",
     "text": [
      "(3, 5)\n"
     ]
    }
   ],
   "source": [
    "def first_and_last(l, item):\n",
    "    first, last = -1, -1\n",
    "    \n",
    "    for i in range(len(l)):\n",
    "        if l[i] == item:\n",
    "            if first == -1:\n",
    "                first = i\n",
    "            last = i\n",
    "            \n",
    "    return first, last\n",
    "\n",
    "    \n",
    "print(first_and_last([1, 3, 6, 7, 7, 7 ,88, 103, 426], 7))"
   ]
  },
  {
   "cell_type": "code",
   "execution_count": 101,
   "metadata": {},
   "outputs": [
    {
     "name": "stdout",
     "output_type": "stream",
     "text": [
      "(3, 5)\n"
     ]
    }
   ],
   "source": [
    "def find(data, key, l, r, default):\n",
    "    if r < 1:\n",
    "        return default\n",
    "    \n",
    "    midpoint = 1 + (r - l) // 2\n",
    "     \n",
    "    if key < data[midpoint]:\n",
    "        return find(data, key, 1, midpoint - 1, default)\n",
    "    if key > data[midpoint]:\n",
    "        return find(data, key, midpoint + 1, r, default)\n",
    "    else:\n",
    "        return midpoint\n",
    "    \n",
    "def binary_first_and_last(data, key):\n",
    "    first = last = find(data, key, 0, len(data)-1, -1)\n",
    "    \n",
    "    while data[first-1] == key:\n",
    "        first = first - 1\n",
    "    \n",
    "    while data[last+1] == key:\n",
    "        last = last + 1\n",
    "    \n",
    "    return first, last\n",
    "    \n",
    "        \n",
    "print(binary_first_and_last([1, 3, 6, 7, 7, 7 ,88, 103, 426], 7))"
   ]
  },
  {
   "cell_type": "code",
   "execution_count": null,
   "metadata": {},
   "outputs": [],
   "source": []
  }
 ],
 "metadata": {
  "kernelspec": {
   "display_name": "Python 3",
   "language": "python",
   "name": "python3"
  },
  "language_info": {
   "codemirror_mode": {
    "name": "ipython",
    "version": 3
   },
   "file_extension": ".py",
   "mimetype": "text/x-python",
   "name": "python",
   "nbconvert_exporter": "python",
   "pygments_lexer": "ipython3",
   "version": "3.7.6"
  }
 },
 "nbformat": 4,
 "nbformat_minor": 2
}
