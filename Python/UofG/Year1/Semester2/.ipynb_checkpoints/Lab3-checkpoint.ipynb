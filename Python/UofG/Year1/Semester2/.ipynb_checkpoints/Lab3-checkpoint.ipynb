{
 "cells": [
  {
   "cell_type": "code",
   "execution_count": 9,
   "metadata": {},
   "outputs": [
    {
     "name": "stdout",
     "output_type": "stream",
     "text": [
      "[]\n",
      "[]\n",
      "[[1, 'a'], [2, 'b']]\n",
      "[[1, 'a'], [2, 'b'], [3, 'c']]\n"
     ]
    }
   ],
   "source": [
    "def join(a, b):\n",
    "    length = len(a) if len(a) < len(b) else len(b)\n",
    "    return [[a[i], b[i]] for i in range(length)]\n",
    "\n",
    "print(join([], []))\n",
    "print(join([], [\"a\",\"b\",\"c\"]))\n",
    "print(join([1,2], [\"a\",\"b\",\"c\"]))\n",
    "print(join([1,2,3], [\"a\",\"b\",\"c\"]))"
   ]
  },
  {
   "cell_type": "code",
   "execution_count": 15,
   "metadata": {},
   "outputs": [
    {
     "name": "stdout",
     "output_type": "stream",
     "text": [
      "([1, 2, 3], ['a', 'b', 'c'])\n",
      "([1], ['a'])\n",
      "([], [])\n"
     ]
    }
   ],
   "source": [
    "def split(l):\n",
    "    result_a = []\n",
    "    result_b = []\n",
    "    \n",
    "    for i in range(len(l)):\n",
    "        result_a.append(l[i][0])\n",
    "        result_b.append(l[i][1])\n",
    "    \n",
    "    return result_a, result_b\n",
    "\n",
    "print(split([[1, 'a'], [2, 'b'], [3, 'c']]))\n",
    "print(split([[1, 'a']]))\n",
    "print(split([]))"
   ]
  },
  {
   "cell_type": "code",
   "execution_count": 27,
   "metadata": {},
   "outputs": [
    {
     "name": "stdout",
     "output_type": "stream",
     "text": [
      "[5, 7, 8, 10, 11]\n",
      "[1, 2, 3, 4, 5, 6, 7, 8, 9]\n",
      "[1, 2, 3, 5, 8, 10, 11]\n",
      "[1, 2, 3, 5, 8, 10]\n"
     ]
    }
   ],
   "source": [
    "def shaker_sort(l):\n",
    "    result = l.copy()\n",
    "    for j in range(len(result)):\n",
    "        for i in range(j, len(result)-1):\n",
    "            if result[i] > l[i+1]:\n",
    "                result[i], result[i+1] = result[i+1], result[i]\n",
    "        for i in range(len(l)-1, j, -1):\n",
    "            if result[i-1] > result[i]:\n",
    "                result[i-1], result[i] = result[i], result[i-1]  \n",
    "    return result\n",
    "\n",
    "print(shaker_sort([7,5,11,10,8]))\n",
    "print(shaker_sort([2, 6, 8, 1, 7, 9, 4, 3, 5]))\n",
    "print(shaker_sort([10, 11, 3, 2, 5, 8, 1]))\n",
    "print(shaker_sort([10, 3, 2, 5, 8, 1]))"
   ]
  },
  {
   "cell_type": "code",
   "execution_count": 39,
   "metadata": {},
   "outputs": [
    {
     "name": "stdout",
     "output_type": "stream",
     "text": [
      "[1, 2, 5, 6, 7]\n",
      "[1, 2, 3, 4, 5, 6, 7, 8, 9]\n",
      "[1, 2, 3, 5, 8, 10, 11]\n",
      "[1, 2, 3, 5, 8, 10]\n"
     ]
    }
   ],
   "source": [
    "def odd_even_sort(l):\n",
    "    l = l.copy()\n",
    "    \n",
    "    for j in range(len(l)):\n",
    "        for i in range(1, len(l)-1, 2):\n",
    "            if l[i] > l[i+1]:\n",
    "                l[i], l[i+1] = l[i+1], l[i]\n",
    "        for i in range(0, len(l)-1, 2):\n",
    "            if l[i] > l[i+1]:\n",
    "                l[i], l[i+1] = l[i+1], l[i]\n",
    "    return l\n",
    "\n",
    "print(odd_even_sort([1,7,5,2,6]))\n",
    "print(odd_even_sort([2, 6, 8, 1, 7, 9, 4, 3, 5]))\n",
    "print(odd_even_sort([10, 11, 3, 2, 5, 8, 1]))\n",
    "print(odd_even_sort([10, 3, 2, 5, 8, 1]))"
   ]
  },
  {
   "cell_type": "code",
   "execution_count": null,
   "metadata": {},
   "outputs": [],
   "source": []
  }
 ],
 "metadata": {
  "kernelspec": {
   "display_name": "Python 3",
   "language": "python",
   "name": "python3"
  },
  "language_info": {
   "codemirror_mode": {
    "name": "ipython",
    "version": 3
   },
   "file_extension": ".py",
   "mimetype": "text/x-python",
   "name": "python",
   "nbconvert_exporter": "python",
   "pygments_lexer": "ipython3",
   "version": "3.7.6"
  }
 },
 "nbformat": 4,
 "nbformat_minor": 2
}
